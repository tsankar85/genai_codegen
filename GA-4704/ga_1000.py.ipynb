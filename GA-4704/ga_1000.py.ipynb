{
    "cells": [
        {
            "cell_type": "code",
            "execution_count": null,
            "metadata": {},
            "outputs": [],
            "source": [
                "# Databricks notebook source\n# COMMAND ----------\n# %md\n# # Data Processing with PySpark\n# This notebook processes sales data using PySpark, performing various transformations and saving the results to Unity Catalog.\n\n# COMMAND ----------\n#\n",
                "# Import necessary libraries\nimport logging\nfrom pyspark.sql import SparkSession\nfrom pyspark.sql.functions import concat_ws, to_date, when, year, regexp_replace, split, lit, datediff\nfrom pyspark.sql.types import DoubleType\n\n# COMMAND ----------\n#\n",
                "# Configure logging\nlogging.basicConfig(level=logging.INFO)\nlogger = logging.getLogger(__name__)\n\n# COMMAND ----------\n# %md\n# ## Load Data\n# Load data from Unity Catalog tables.\n\n# COMMAND ----------\n#\n",
                "# Load data from Unity Catalog tables\ntry:\n    orders_central = spark.table(\"catalog.sales.orders_central\")\n    orders_west = spark.table(\"catalog.sales.orders_west\")\n    orders_east = spark.table(\"catalog.sales.orders_east\")\n    orders_south = spark.table(\"catalog.sales.orders_south_2015\")\n    quota = spark.table(\"catalog.sales.quota\")\n    returns = spark.table(\"catalog.sales.returns\")\n    logger.info(\"Data loaded successfully from Unity Catalog tables.\")\nexcept Exception as e:\n    logger.error(f\"Error loading data from Unity Catalog: {e}\")\n    raise\n\n# COMMAND ----------\n# %md\n# ## Transformations\n# ### Fix Dates for Orders Central\n\n# COMMAND ----------\n#\n",
                "# Transformation: Fix Dates for Orders Central\ntry:\n    orders_central = orders_central.withColumn(\"Region\", lit(\"Central\")) \\\n        .withColumn(\"Order Date\", to_date(concat_ws(\"-\", \"Order Year\", \"Order Month\", \"Order Day\"))) \\\n        .withColumn(\"Ship Date\", to_date(concat_ws(\"-\", \"Ship Year\", \"Ship Month\", \"Ship Day\"))) \\\n        .drop(\"Order Year\", \"Order Month\", \"Order Day\", \"Ship Year\", \"Ship Month\", \"Ship Day\") \\\n        .withColumnRenamed(\"Discounts\", \"Discount\") \\\n        .withColumnRenamed(\"Product\", \"Product Name\")\n    logger.info(\"Dates fixed for Orders Central.\")\nexcept Exception as e:\n    logger.error(f\"Error in fixing dates for Orders Central: {e}\")\n    raise\n\n# COMMAND ----------\n# %md\n# ### Remove Nulls\n\n# COMMAND ----------\n#\n",
                "# Transformation: Remove Nulls\ntry:\n    orders_central = orders_central.filter(\"Order ID IS NOT NULL\")\n    logger.info(\"Null Order IDs removed from Orders Central.\")\nexcept Exception as e:\n    logger.error(f\"Error in removing null Order IDs: {e}\")\n    raise\n\n# COMMAND ----------\n# %md\n# ### Fix Data Type\n\n# COMMAND ----------\n#\n",
                "# Transformation: Fix Data Type\ntry:\n    orders_central = orders_central.withColumn(\"Discount\", orders_central[\"Discount\"].cast(\"string\")) \\\n        .withColumn(\"Sales\", regexp_replace(orders_central[\"Sales\"], \"[^0-9.]\", \"\").cast(DoubleType()))\n    logger.info(\"Data types fixed for Orders Central.\")\nexcept Exception as e:\n    logger.error(f\"Error in fixing data types: {e}\")\n    raise\n\n# COMMAND ----------\n# %md\n# ### Rename States\n\n# COMMAND ----------\n#\n",
                "# Transformation: Rename States\nstate_mapping = {\"California\": \"CA\", \"New York\": \"NY\"}  # Example mapping\ntry:\n    orders_central = orders_central.replace(state_mapping, subset=[\"State\"])\n    logger.info(\"State names mapped to abbreviations.\")\nexcept Exception as e:\n    logger.error(f\"Error in renaming states: {e}\")\n    raise\n\n# COMMAND ----------\n# %md\n# ### Pivot Quotas\n\n# COMMAND ----------\n#\n",
                "# Transformation: Pivot Quotas\ntry:\n    quota = quota.selectExpr(\"Region\", \"stack(4, '2014', `2014`, '2015', `2015`, '2016', `2016`, '2017', `2017`) as (Year, Quota)\")\n    logger.info(\"Quotas pivoted successfully.\")\nexcept Exception as e:\n    logger.error(f\"Error in pivoting quotas: {e}\")\n    raise\n\n# COMMAND ----------\n# %md\n# ### Clean Notes and Approver\n\n# COMMAND ----------\n#\n",
                "# Transformation: Clean Notes and Approver\ntry:\n    returns = returns.withColumn(\"Return Notes\", split(returns[\"Notes\"], \" \")[0]) \\\n        .withColumn(\"Approver\", split(returns[\"Notes\"], \" \")[1]) \\\n        .drop(\"Notes\")\n    logger.info(\"Notes and Approver cleaned.\")\nexcept Exception as e:\n    logger.error(f\"Error in cleaning Notes and Approver: {e}\")\n    raise\n\n# COMMAND ----------\n# %md\n# ## Union and Join Operations\n\n# COMMAND ----------\n#\n",
                "# Union and Join Operations\ntry:\n    all_orders = orders_central.union(orders_west).union(orders_east).union(orders_south)\n    orders_returns = returns.join(all_orders, [\"Order ID\", \"Product ID\"], \"left\")\n    logger.info(\"Union and join operations completed.\")\nexcept Exception as e:\n    logger.error(f\"Error in union and join operations: {e}\")\n    raise\n\n# COMMAND ----------\n# %md\n# ## Custom Calculations\n\n# COMMAND ----------\n#\n",
                "# Custom Calculations\ntry:\n    is_returned = returns[\"Return Reason\"].isNotNull()\n    orders_returns = orders_returns.withColumn(\"Returned\", when(is_returned, 1).otherwise(0)) \\\n        .withColumn(\"Days to Ship\", datediff(orders_returns[\"Ship Date\"], orders_returns[\"Order Date\"])) \\\n        .withColumn(\"Discount\", when(orders_returns[\"Discount\"].isNull(), 0).otherwise(orders_returns[\"Discount\"])) \\\n        .withColumn(\"Year of Sale\", year(orders_returns[\"Order Date\"]))\n    logger.info(\"Custom calculations added.\")\nexcept Exception as e:\n    logger.error(f\"Error in custom calculations: {e}\")\n    raise\n\n# COMMAND ----------\n# %md\n# ## Output: Save to Unity Catalog\n\n# COMMAND ----------\n#\n",
                "# Output: Save to Unity Catalog\ntry:\n    spark.sql(\"DROP TABLE IF EXISTS catalog.sales.superstore_sales\")\n    orders_returns.write.format(\"delta\").mode(\"overwrite\").saveAsTable(\"catalog.sales.superstore_sales\")\n    logger.info(\"Data written to Unity Catalog table 'superstore_sales'.\")\nexcept Exception as e:\n    logger.error(f\"Error in writing data to Unity Catalog: {e}\")\n    raise\n"
            ]
        }
    ],
    "metadata": {
        "kernelspec": {
            "display_name": "Python 3",
            "language": "python",
            "name": "python3"
        },
        "language_info": {
            "codemirror_mode": {
                "name": "ipython",
                "version": 3
            },
            "file_extension": ".py",
            "mimetype": "text/x-python",
            "name": "python",
            "nbconvert_exporter": "python",
            "pygments_lexer": "ipython3",
            "version": "3.x"
        }
    },
    "nbformat": 4,
    "nbformat_minor": 5
}